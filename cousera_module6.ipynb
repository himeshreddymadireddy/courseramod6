{
 "cells": [
  {
   "cell_type": "code",
   "execution_count": null,
   "id": "6642fd90",
   "metadata": {},
   "outputs": [],
   "source": [
    "11-authordetails.png"
   ]
  },
  {
   "cell_type": "markdown",
   "id": "8bb7d555",
   "metadata": {},
   "source": [
    "# Data Science Tools and Techniques\n"
   ]
  },
  {
   "cell_type": "markdown",
   "id": "75ee5703",
   "metadata": {},
   "source": [
    "## Introduction\n",
    "This notebook provides an overview of essential Data Science tools, languages, and libraries.\n"
   ]
  },
  {
   "cell_type": "markdown",
   "id": "6bcc4926",
   "metadata": {},
   "source": [
    "## Data Science Languages\n",
    "- Python\n",
    "- R\n",
    "- SQL\n",
    "- Julia\n",
    "- Scala\n"
   ]
  },
  {
   "cell_type": "markdown",
   "id": "f568283b",
   "metadata": {},
   "source": [
    "## Data Science Libraries\n",
    "- Pandas\n",
    "- NumPy\n",
    "- Matplotlib\n",
    "- Scikit-learn\n",
    "- TensorFlow\n",
    "- Keras"
   ]
  },
  {
   "cell_type": "markdown",
   "id": "62ab6129",
   "metadata": {},
   "source": [
    "## Data Science Tools\n",
    "| Tool          | Purpose                         |\n",
    "|--------------|--------------------------------|\n",
    "| Jupyter Notebook | Interactive computing      |\n",
    "| Apache Spark   | Big data processing         |\n",
    "| TensorFlow    | Machine learning framework   |\n",
    "| RStudio       | Statistical computing        |\n",
    "| Hadoop        | Distributed storage & processing |\n"
   ]
  },
  {
   "cell_type": "markdown",
   "id": "2d3b5633",
   "metadata": {},
   "source": [
    "## Arithmetic Expressions\n",
    "Below, we demonstrate arithmetic operations using Python.\n"
   ]
  },
  {
   "cell_type": "code",
   "execution_count": 1,
   "id": "806dd146",
   "metadata": {},
   "outputs": [
    {
     "name": "stdout",
     "output_type": "stream",
     "text": [
      "Result: 30\n"
     ]
    }
   ],
   "source": [
    "# Multiplying and adding numbers\n",
    "result = (5 * 4) + 10\n",
    "print(\"Result:\", result)\n"
   ]
  },
  {
   "cell_type": "code",
   "execution_count": 2,
   "id": "805455a3",
   "metadata": {},
   "outputs": [
    {
     "name": "stdout",
     "output_type": "stream",
     "text": [
      "120 minutes is equal to 2.0 hours\n"
     ]
    }
   ],
   "source": [
    "# Convert 120 minutes to hours\n",
    "minutes = 120\n",
    "hours = minutes / 60\n",
    "print(f\"{minutes} minutes is equal to {hours} hours\")\n"
   ]
  },
  {
   "cell_type": "markdown",
   "id": "ef5409ba",
   "metadata": {},
   "source": [
    "## Objectives\n",
    "- Learn about Data Science languages and tools.\n",
    "- Understand commonly used libraries.\n",
    "- Demonstrate basic arithmetic operations.\n",
    "- Convert time units using Python.\n"
   ]
  },
  {
   "cell_type": "markdown",
   "id": "49057826",
   "metadata": {},
   "source": [
    "## Author\n",
    "**HIMESH REDDY MADIREDDY**\n"
   ]
  },
  {
   "cell_type": "code",
   "execution_count": null,
   "id": "2fd7bf0b",
   "metadata": {},
   "outputs": [],
   "source": []
  }
 ],
 "metadata": {
  "kernelspec": {
   "display_name": "Python 3 (ipykernel)",
   "language": "python",
   "name": "python3"
  },
  "language_info": {
   "codemirror_mode": {
    "name": "ipython",
    "version": 3
   },
   "file_extension": ".py",
   "mimetype": "text/x-python",
   "name": "python",
   "nbconvert_exporter": "python",
   "pygments_lexer": "ipython3",
   "version": "3.11.8"
  }
 },
 "nbformat": 4,
 "nbformat_minor": 5
}
